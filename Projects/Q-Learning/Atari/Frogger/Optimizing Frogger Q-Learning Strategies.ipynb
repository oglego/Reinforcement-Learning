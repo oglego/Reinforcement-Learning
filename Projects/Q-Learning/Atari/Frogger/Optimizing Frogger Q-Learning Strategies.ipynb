{
 "cells": [
  {
   "cell_type": "markdown",
   "id": "905d3d96",
   "metadata": {},
   "source": [
    "## Optimizing Frogger: Q-Learning Strategies"
   ]
  },
  {
   "cell_type": "markdown",
   "id": "1831ad4c",
   "metadata": {},
   "source": [
    "In this notebook we will apply the Epsilon-Greedy Q-learning algorithm to the Frogger Atari game.  We have been inspired by the work done in [2] - and hope to implement the Epsilon-Greedy Q-learning algorithm to play Frogger.\n",
    "\n",
    "From [1] we can see that the Q-learning update formula is\n",
    "\n",
    "$$\n",
    "Q(s, a) = Q(s, a) + \\alpha \\left[ r + \\gamma \\max_{a'} Q(s', a') - Q(s, a) \\right]\n",
    "$$\n",
    "\n",
    "Where we have the below:\n",
    "\n",
    "Q(s,a) is the Q-value representing the expected cumulative rewards for taking action a from state s.\n",
    "\n",
    "Alpha is the learning rate which controls the step size of the Q-value updates.\n",
    "\n",
    "r is the immediate reward obtained after taking action a from state s.\n",
    "\n",
    "Gamma is the discount factor representing the importance of future rewards.  This value is typically between 0 and 1.\n",
    "\n",
    "s' is the next state after taking action a from state s.\n",
    "\n",
    "a' is the action that maximizes the Q-value in the next state s'.\n",
    "\n",
    "One of the key components of a Reinforcement Learning algorithm is finding a trade off between exploration and exploitation.  In this work we utilize the epsilon-greedy strategy which is defined as follows:\n",
    "\n",
    "$$\n",
    "\\pi(a|s) = \n",
    "\\begin{cases} \n",
    "\\frac{\\epsilon}{\\text{num_actions}} + (1 - \\epsilon), & \\text{if } a^* = \\text{argmax}_a Q(s, a) \\\\\n",
    "\\frac{\\epsilon}{\\text{num_actions}}, & \\text{otherwise}\n",
    "\\end{cases}\n",
    "$$\n",
    "\n",
    "To implement a Q-learning based approach to \"solving\" Frogger we will need the following \"ingredients\"\n",
    "\n",
    "1) State Space - This is the set of all possible states in the environment.\n",
    "\n",
    "2) Action Space - This is the set of all possible actions that the agent can take in the environment.\n",
    "\n",
    "3) Reward Function - This is a function that defines the immediate reward that the agent receives after taking a particular action from a specific state.\n",
    "\n",
    "4) Q-Value Function - This is the function that estimates the expected cumulative rewards for taking a particular action a from a state s.\n",
    "\n",
    "5) Learning Rate - This is a parameter that controls the step size or the rate that the Q-values are updated during the learning process.\n",
    "\n",
    "6) Discount Factor - This is a parameter that determines the importance of future rewards in the Q-value updates.\n",
    "\n",
    "7) Exploration-Exploitation Strategy - Policy that defines how the agent selects actions in each state, for this research we will use the epsilon-greedy strategy defined above.\n",
    "\n",
    "8) Initialization of Q-Values - Initialize Q-values for all state-action pairs.\n",
    "\n",
    "9) Q-Learning Update Rule - Formula that updates the Q-values based on observed rewards and the Q-values of future states.\n",
    "\n",
    "10) Termination Condition - Determines when to stop the learning process.\n",
    "\n",
    "11) Learning Algorithm - Overall procedure that combines all of the above to iteratively update the Q-values and improve the agent's policy over time.\n",
    "\n",
    "In the below we will examine each of these more closely with how it applies to the game of Frogger.\n",
    "\n",
    "Let's take a look at the actions the agent will be able to take in Frogger."
   ]
  },
  {
   "cell_type": "code",
   "execution_count": 36,
   "id": "212df4a3",
   "metadata": {},
   "outputs": [
    {
     "data": {
      "text/plain": [
       "['NOOP', 'UP', 'RIGHT', 'LEFT', 'DOWN']"
      ]
     },
     "execution_count": 36,
     "metadata": {},
     "output_type": "execute_result"
    }
   ],
   "source": [
    "# OpenAI gym\n",
    "import gymnasium as gym\n",
    "# We are going to take a screenshot of the environment\n",
    "from PIL import Image\n",
    "\n",
    "# Create MsPacman environment\n",
    "env = gym.make(\"ALE/Frogger-ram-v5\", render_mode=\"rgb_array\")\n",
    "\n",
    "# Show actions\n",
    "env.env.unwrapped.get_action_meanings()"
   ]
  },
  {
   "cell_type": "code",
   "execution_count": 37,
   "id": "a33d250c",
   "metadata": {},
   "outputs": [
    {
     "name": "stdout",
     "output_type": "stream",
     "text": [
      "(array([144,  19,   6,  39,   7,  43, 148, 125,  27,  35,  37,  64,  99,\n",
      "        86, 119,  87,  85,  53, 133,  59, 135, 117, 236,  52,  19, 229,\n",
      "         3, 165, 172,  43, 180,  37,   5,  55, 233, 200, 154, 184, 216,\n",
      "       246, 171, 150, 124, 186, 255,  91,  91, 195,  80,   0,   0,   4,\n",
      "        40,   0,   0,   0, 234, 254, 234, 254,  29, 254,  51, 254, 157,\n",
      "       254, 157, 254,  84, 254,   1,   0, 115, 115, 149,   0,   0,   0,\n",
      "         0,   0,   4,   4,   1,   1,   0, 253, 154, 253, 255,   0,   0,\n",
      "        71,   0,   1,   8,  62,  30,   0,   0,   0,   0,   0,   0,   0,\n",
      "        46, 253,   0, 115, 255, 198,   1, 255,   0, 163,  58,  80, 255,\n",
      "        80, 255,  28,  12,   0,   0,  91,   0,   0, 124, 250], dtype=uint8), {'lives': 4, 'episode_frame_number': 0, 'frame_number': 0})\n"
     ]
    }
   ],
   "source": [
    "# Lets take a look at a random state for the agent\n",
    "state = env.reset()\n",
    "print(state)"
   ]
  },
  {
   "cell_type": "markdown",
   "id": "2ea528e2",
   "metadata": {},
   "source": [
    "Notice that the agent's state values are pixel values.  Next we'll show the max and min value that the agent can obtain as a reward."
   ]
  },
  {
   "cell_type": "code",
   "execution_count": 38,
   "id": "1bbb6476",
   "metadata": {},
   "outputs": [
    {
     "name": "stdout",
     "output_type": "stream",
     "text": [
      "Minimum Reward: -inf\n",
      "Maximum Reward: inf\n"
     ]
    }
   ],
   "source": [
    "min_reward, max_reward = env.reward_range\n",
    "print(f\"Minimum Reward: {min_reward}\")\n",
    "print(f\"Maximum Reward: {max_reward}\")"
   ]
  },
  {
   "cell_type": "markdown",
   "id": "65978308",
   "metadata": {},
   "source": [
    "Finally, before we implement our algorithm, lets take a look at the agent's environment.\n",
    "\n"
   ]
  },
  {
   "cell_type": "code",
   "execution_count": 39,
   "id": "fed6f74c",
   "metadata": {},
   "outputs": [
    {
     "data": {
      "image/png": "[encoded data removed]",
      "text/plain": [
       "<Figure size 800x600 with 1 Axes>"
      ]
     },
     "metadata": {},
     "output_type": "display_data"
    }
   ],
   "source": [
    "# Helper function to show the environment\n",
    "import matplotlib.pyplot as plt\n",
    "def show_environment(env):\n",
    "    plt.figure(figsize=(8, 6))\n",
    "    plt.imshow(env.render())\n",
    "    plt.axis('off')\n",
    "    plt.show()\n",
    "show_environment(env)"
   ]
  },
  {
   "cell_type": "markdown",
   "id": "0aee0e7b",
   "metadata": {},
   "source": [
    "In the above we can see a screenshot of the Frogger Atari game - this screenshot shows our agent's environment.  Now that we have gone over the agent's environment, potential rewards, and the agent's actions, lets now start looking into implementing an agent for our Q-Learning Algorithm.  The code for the agent can be find in the QAgent.py file."
   ]
  },
  {
   "cell_type": "markdown",
   "id": "0569462a",
   "metadata": {},
   "source": [
    "## Agent Class\n",
    "\n",
    "In the below we will create a Q-learning Agent class.  Comments have been input throughout to explain what each line of code is doing."
   ]
  },
  {
   "cell_type": "code",
   "execution_count": 40,
   "id": "c77e92a2",
   "metadata": {},
   "outputs": [],
   "source": [
    "\"\"\"\n",
    "Q-learning agent to play Frogger -\n",
    "\n",
    "The agent will need the following parameters:\n",
    "    \n",
    "    num_actions: int,                 # Number of possible actions the agent can take\n",
    "    learning_rate: float,             # Learning rate for the Q-learning algorithm\n",
    "    initial_epsilon: float,           # Initial exploration probability (epsilon-greedy strategy)\n",
    "    epsilon_decay: float,             # Rate at which epsilon decays over time\n",
    "    final_epsilon: float,             # Final minimum exploration probability\n",
    "    discount_factor: float = 0.09,    # Discount factor for future rewards  \n",
    "\n",
    "The agent class will also include the below functions:\n",
    "    \n",
    "    get_action:\n",
    "        \n",
    "        Returns the best action with probability (1 - epsilon) otherwise a random\n",
    "        action with probability epsilon to ensure exploration.\n",
    "        \n",
    "    update:\n",
    "        \n",
    "        Updates the Q-value of an action based on the observed reward and next state.\n",
    "        \n",
    "    decay_epsilon:\n",
    "        \n",
    "        Decay the exploration probability (epsilon) over time.\n",
    "        \n",
    "\"\"\"\n",
    "from collections import defaultdict\n",
    "import numpy as np\n",
    "import matplotlib.pyplot as plt\n",
    "from tqdm import tqdm\n",
    "import gymnasium as gym\n",
    "from gymnasium.wrappers import RecordVideo\n",
    "import os\n",
    "\n",
    "class Agent:\n",
    "    def __init__(\n",
    "            self,\n",
    "            num_actions: int,                 # Number of possible actions the agent can take\n",
    "            learning_rate: float,             # Learning rate for the Q-learning algorithm\n",
    "            initial_epsilon: float,           # Initial exploration probability (epsilon-greedy strategy)\n",
    "            epsilon_decay: float,             # Rate at which epsilon decays over time\n",
    "            final_epsilon: float,             # Final minimum exploration probability\n",
    "            discount_factor: float = .09      # Discount factor for future rewards - the larger the value\n",
    "                                              # the more we value future rewards \n",
    "                                              \n",
    "    ):\n",
    "            \"\"\"\n",
    "            Initialize a Reinforcement Learning agent with the following parameters:\n",
    "        \n",
    "            Parameters:\n",
    "                        \n",
    "            learning_rate (float): The learning rate.\n",
    "            initial_epsilon (float): The initial epsilon value.\n",
    "            epsilon_decay (float): The rate at which epsilon decays.\n",
    "            final_epsilon (float): The final epsilon value.\n",
    "            discount_factor (float): The discount factor used in Q-value computation.\n",
    "            \"\"\"\n",
    "            # Initialize Q-values for each state-action pair using defaultdict\n",
    "            self.q_values = defaultdict(lambda: np.zeros(num_actions))\n",
    "        \n",
    "            # Store the learning rate and the discount factor\n",
    "            self.lr = learning_rate\n",
    "            self.discount_factor = discount_factor\n",
    "        \n",
    "            # Store the initial and final exploration probabilities\n",
    "            self.epsilon = initial_epsilon\n",
    "            self.epsilon_decay = epsilon_decay\n",
    "            self.final_epsilon = final_epsilon\n",
    "        \n",
    "            # Create a list to store the training errors during the agent's learning process\n",
    "            self.training_error = []\n",
    "            \n",
    "    def get_action(self, obs: tuple[int, int, bool], num_actions: int) -> int:\n",
    "        \"\"\"\n",
    "        Returns the best action with probability (1 - epsilon) otherwise a random\n",
    "        action with probability epsilon to ensure exploration.\n",
    "        \n",
    "        From the documentation on\n",
    "        \n",
    "        https://gymnasium.farama.org/environments/atari/frogger/\n",
    "        \n",
    "        we can see that the obs type is a numpy array so we are going to use the\n",
    "        flatten function below and create a tuple of the observations.\n",
    "        \n",
    "        Args:\n",
    "            obs (tuple): A tuple representing the current observation or state, \n",
    "                typically containing integers and a boolean value.\n",
    "            num_actions (int): The total number of possible actions.\n",
    "        \n",
    "        Returns:\n",
    "            int: The selected action, either chosen greedily (exploit) with a \n",
    "            probability of (1 - epsilon) or randomly with a probability of epsilon.\n",
    "        \"\"\"\n",
    "        # Create a tuple of the values from flattening observations\n",
    "        obs_tuple = tuple(obs.flatten())\n",
    "        # with probability epsilon return a random action to explore the environment\n",
    "        if np.random.random() < self.epsilon:\n",
    "            return np.random.choice(num_actions)\n",
    "        \n",
    "        # with probability (1 - epsilon) act greedily (exploit)\n",
    "        else:\n",
    "            return int(np.argmax(self.q_values[obs_tuple]))\n",
    "\n",
    "    def update(\n",
    "        self,\n",
    "        obs: tuple[int, int, bool],         # Current observation or state\n",
    "        action: int,                        # Action taken\n",
    "        reward: float,                      # Reward received\n",
    "        terminated: bool,                   # Whether the episode terminated after this step\n",
    "        next_obs: tuple[int, int, bool],    # Next observation or state after taking the action\n",
    "    ):\n",
    "        \"\"\"\n",
    "        Updates the Q-value of an action based on the observed reward and next state.\n",
    "        \n",
    "        From the documentation on\n",
    "        \n",
    "        https://gymnasium.farama.org/environments/atari/frogger/\n",
    "        \n",
    "        we can see that the obs type is a numpy array so we are going to use the\n",
    "        flatten function below and create a tuple of the observations.\n",
    "        \n",
    "        Args:\n",
    "            obs (tuple): Current observation or state, typically containing integers and a boolean value.\n",
    "            action (int): Action taken by the agent.\n",
    "            reward (float): Reward received after taking the action.\n",
    "            terminated (bool): Whether the episode terminated after this step.\n",
    "            next_obs (tuple): Next observation or state after taking the action.\n",
    "        \n",
    "        Returns:\n",
    "            None\n",
    "        \"\"\"\n",
    "        # Create a tuple of observations by flattening next_obs\n",
    "        next_obs_tuple = tuple(next_obs.flatten())\n",
    "        # Calculate the estimated future Q-value based on whether the episode terminated\n",
    "        future_q_value = (not terminated) * np.max(self.q_values[next_obs_tuple])\n",
    "        \n",
    "        # Calculate the temporal difference (error) between the estimated and observed Q-values\n",
    "        obs_tuple = tuple(obs.flatten())\n",
    "        temporal_difference = (\n",
    "            reward + self.discount_factor * future_q_value - self.q_values[obs_tuple][action]\n",
    "        )\n",
    "\n",
    "        # Update the Q-value for the observed state-action pair using the learning rate\n",
    "        obs_tuple = tuple(obs.flatten())\n",
    "        self.q_values[obs_tuple][action] = (\n",
    "            self.q_values[obs_tuple][action] + self.lr * temporal_difference\n",
    "        )\n",
    "        \n",
    "        # Record the temporal difference (error) for monitoring training progress\n",
    "        self.training_error.append(temporal_difference)\n",
    "\n",
    "    def decay_epsilon(self):\n",
    "        \"\"\"\n",
    "        Decay the exploration probability (epsilon) over time.\n",
    "    \n",
    "        This function updates the exploration probability epsilon by reducing it according\n",
    "        to the epsilon decay rate, but ensuring that it does not go below the final epsilon\n",
    "        value.\n",
    "    \n",
    "        Args:\n",
    "            None\n",
    "    \n",
    "        Returns:\n",
    "            None\n",
    "        \"\"\"\n",
    "        # Update epsilon by subtracting the epsilon decay rate, but ensure it doesn't go below final_epsilon\n",
    "        self.epsilon = max(self.final_epsilon, self.epsilon - self.epsilon_decay)\n",
    "        "
   ]
  },
  {
   "cell_type": "markdown",
   "id": "9a4a3a94",
   "metadata": {},
   "source": [
    "## Training\n",
    "\n",
    "Now that we have created a class for our agent, we next need to define a function to allow our agent to train in its environment."
   ]
  },
  {
   "cell_type": "code",
   "execution_count": 41,
   "id": "e67eeebc",
   "metadata": {},
   "outputs": [],
   "source": [
    "def train(env, n_episodes, agent, num_actions):\n",
    "    \"\"\"\n",
    "    Train the specified agent in the given environment for a specified number of episodes.\n",
    "    \n",
    "    Parameters:\n",
    "        env (gym.Env): The Gym environment to train the agent in.\n",
    "        n_episodes (int): The number of episodes to train the agent for.\n",
    "        agent (object): The agent to be trained, implementing the necessary methods.\n",
    "        num_actions (int): The number of possible actions the agent can take.\n",
    "    \n",
    "    Returns:\n",
    "        gym.Env: The environment with episode statistics recorded.\n",
    "    \"\"\"\n",
    "    # Episode Statistics\n",
    "    env = gym.wrappers.RecordEpisodeStatistics(env, deque_size=n_episodes)\n",
    "    \n",
    "    # Wrap the environment with RecordVideo, specifying the output path and video name\n",
    "    env = RecordVideo(env, 'video', episode_trigger=lambda epi: epi == n_episodes-1)\n",
    "    \n",
    "    # Create a list to keep track of the rewards so that we can plot them later\n",
    "    rewards = []\n",
    "    \n",
    "    for episode in tqdm(range(n_episodes)):\n",
    "        # Store observations/information about the environment after resetting the environment\n",
    "        obs, info = env.reset()\n",
    "        # Set done to false for the while loop\n",
    "        done = False\n",
    "        # Variable for storing total rewards\n",
    "        cumulative_reward = 0\n",
    "        while not done:\n",
    "            # Get agent action\n",
    "            action = agent.get_action(obs, num_actions)\n",
    "            # Determine below variables based on action\n",
    "            next_obs, reward, terminated, truncated, info = env.step(action)\n",
    "            # Update total reward\n",
    "            cumulative_reward += reward\n",
    "            # update the agent\n",
    "            agent.update(obs, action, reward, terminated, next_obs)\n",
    "    \n",
    "            # update if the environment is done and the current obs\n",
    "            done = terminated or truncated\n",
    "            # Set obs to next observation\n",
    "            obs = next_obs    \n",
    "        # Decay epsilon\n",
    "        agent.decay_epsilon()\n",
    "        print(f\"Episode {episode + 1}, Total Reward: {cumulative_reward}\")\n",
    "        # Add rewards to our list so we can plot it later\n",
    "        rewards.append(cumulative_reward)\n",
    "    return env, rewards"
   ]
  },
  {
   "cell_type": "markdown",
   "id": "f9bbd867",
   "metadata": {},
   "source": [
    "## Visuals\n",
    "\n",
    "We define some helper functions to visualize the temporal difference training error and the scores that the agent obtains through each episode."
   ]
  },
  {
   "cell_type": "code",
   "execution_count": 42,
   "id": "451ddf59",
   "metadata": {},
   "outputs": [],
   "source": [
    "def visualize_training(env, agent):\n",
    "    \"\"\"\n",
    "    Function to visualize the agents Episode rewards, lengths, and the training error.\n",
    "    \n",
    "    The code below was obtained from the below URL:\n",
    "        \n",
    "    https://gymnasium.farama.org/tutorials/training_agents/blackjack_tutorial/\n",
    "    \"\"\"\n",
    "    # Set the rolling length for computing moving averages\n",
    "    rolling_length = 500\n",
    "    # Plot Training Error\n",
    "    plt.title(\"Training Error\")\n",
    "    training_error_moving_average = (\n",
    "        np.convolve(np.array(agent.training_error), np.ones(rolling_length), mode=\"same\")\n",
    "        / rolling_length\n",
    "    )\n",
    "    plt.plot(range(len(training_error_moving_average)), training_error_moving_average)\n",
    "    \n",
    "    # Adjust layout for better visual\n",
    "    plt.tight_layout()\n",
    "    \n",
    "    # Display the plot\n",
    "    plt.show()\n",
    "    \n",
    "def visualize_rewards(rewards):\n",
    "    \"\"\"\n",
    "    Function to visualize the scores obtained in each episode \n",
    "    that the agent completes.\n",
    "    \"\"\"\n",
    "    plt.plot(rewards)\n",
    "    plt.xlabel(\"Episode\")\n",
    "    plt.ylabel(\"Score\")\n"
   ]
  },
  {
   "cell_type": "markdown",
   "id": "ef887358",
   "metadata": {},
   "source": [
    "## Hyperparameters\n",
    "\n",
    "Now we create our main function where we can set the values for our hyperparameters.  Note that we use a low learning rate to discourage aggressive updates for the agent.  We also set a low epsilon to encourage early exploration."
   ]
  },
  {
   "cell_type": "code",
   "execution_count": 43,
   "id": "9ac0a3e8",
   "metadata": {},
   "outputs": [
    {
     "name": "stderr",
     "output_type": "stream",
     "text": [
      " 36%|████████████████                            | 4/11 [00:00<00:00, 13.75it/s]"
     ]
    },
    {
     "name": "stdout",
     "output_type": "stream",
     "text": [
      "Episode 1, Total Reward: 9.0\n",
      "Episode 2, Total Reward: 9.0\n",
      "Episode 3, Total Reward: 7.0\n",
      "Episode 4, Total Reward: 6.0\n",
      "Episode 5, Total Reward: 9.0\n",
      "Episode 6, Total Reward: 7.0\n"
     ]
    },
    {
     "name": "stderr",
     "output_type": "stream",
     "text": [
      " 73%|████████████████████████████████            | 8/11 [00:00<00:00, 11.57it/s]"
     ]
    },
    {
     "name": "stdout",
     "output_type": "stream",
     "text": [
      "Episode 7, Total Reward: 10.0\n",
      "Episode 8, Total Reward: 9.0\n",
      "Episode 9, Total Reward: 10.0\n"
     ]
    },
    {
     "name": "stderr",
     "output_type": "stream",
     "text": [
      "\r",
      " 91%|███████████████████████████████████████    | 10/11 [00:00<00:00, 11.05it/s]"
     ]
    },
    {
     "name": "stdout",
     "output_type": "stream",
     "text": [
      "Episode 10, Total Reward: 7.0\n"
     ]
    },
    {
     "name": "stderr",
     "output_type": "stream",
     "text": [
      " 91%|███████████████████████████████████████    | 10/11 [00:01<00:00, 11.05it/s]"
     ]
    },
    {
     "name": "stdout",
     "output_type": "stream",
     "text": [
      "Moviepy - Building video /Users/aaronogle/Desktop/Desktop - Aaron’s Mac mini/Programming/2023/Python/RL/video/rl-video-episode-10.mp4.\n",
      "Moviepy - Writing video /Users/aaronogle/Desktop/Desktop - Aaron’s Mac mini/Programming/2023/Python/RL/video/rl-video-episode-10.mp4\n",
      "\n"
     ]
    },
    {
     "name": "stderr",
     "output_type": "stream",
     "text": [
      "\n",
      "t:   0%|                                      | 0/721 [00:00<?, ?it/s, now=None]\u001b[A\n",
      "t:  54%|██████████████            | 389/721 [00:00<00:00, 3887.59it/s, now=None]\u001b[A\n",
      "100%|███████████████████████████████████████████| 11/11 [00:01<00:00,  8.73it/s]\u001b[A\n"
     ]
    },
    {
     "name": "stdout",
     "output_type": "stream",
     "text": [
      "Moviepy - Done !\n",
      "Moviepy - video ready /Users/aaronogle/Desktop/Desktop - Aaron’s Mac mini/Programming/2023/Python/RL/video/rl-video-episode-10.mp4\n",
      "Episode 11, Total Reward: 7.0\n"
     ]
    },
    {
     "data": {
      "image/png": "[encoded data removed]",
      "text/plain": [
       "<Figure size 640x480 with 1 Axes>"
      ]
     },
     "metadata": {},
     "output_type": "display_data"
    },
    {
     "data": {
      "image/png": "[encoded data removed]",
      "text/plain": [
       "<Figure size 640x480 with 1 Axes>"
      ]
     },
     "metadata": {},
     "output_type": "display_data"
    }
   ],
   "source": [
    "def main():\n",
    "    # Path for ffmpeg\n",
    "    os.environ['IMAGEIO_FFMPEG_EXE'] = \"/opt/homebrew/bin/ffmpeg\"\n",
    "    \n",
    "    # Create environment\n",
    "    env = gym.make(\"ALE/Frogger-ram-v5\", obs_type=\"ram\", render_mode=\"rgb_array\", difficulty=0)\n",
    "    \n",
    "    # Hyperparameters\n",
    "    num_actions = env.action_space.n\n",
    "    # Larger learning rate adjusts aggressively and may not converge\n",
    "    lr = .001              \n",
    "    n_episodes = 11\n",
    "    # Larger epsilons encourage more exploring while training\n",
    "    start_epsilon = 1.0\n",
    "    final_epsilon = 0.00001\n",
    "    \n",
    "    # Reduce the agent's exploration over time \n",
    "    # We use linear decay\n",
    "    epsilon_decay = (start_epsilon-final_epsilon) / n_episodes \n",
    "    \n",
    "    # Create an Agent object with the above hyperparameters\n",
    "    agent = Agent(num_actions = num_actions,\n",
    "                  learning_rate = lr,\n",
    "                  initial_epsilon = start_epsilon,\n",
    "                  epsilon_decay = epsilon_decay,\n",
    "                  final_epsilon = final_epsilon)\n",
    "\n",
    "    \n",
    "    # Start training\n",
    "    env, rewards = train(env, n_episodes, agent, num_actions)\n",
    "    \n",
    "    # Visualize training\n",
    "    visualize_training(env, agent)\n",
    "    \n",
    "    visualize_rewards(rewards)\n",
    "    \n",
    "    # Close environment\n",
    "    env.close()\n",
    "    \n",
    "if __name__ == \"__main__\":\n",
    "    main()"
   ]
  },
  {
   "cell_type": "markdown",
   "id": "a5b0b0e4",
   "metadata": {},
   "source": [
    "## Remarks\n",
    "\n",
    "In this notebook we are only training for eleven episodes.  Additional examples from longer training times are attached in this github repository - we keep the training short in this notebook just so we can focus on the implementation and not on the end results.\n",
    "\n",
    "Note that in video \n",
    "\n",
    "\"rl-video-episode-10.mp4\"\n",
    "\n",
    "The agent is exploring quite a bit, and doesn't understand what the long term goal is yet.  \n",
    "\n",
    "Then in video\n",
    "\n",
    "\"rl-video-episode-1000.mp4\"\n",
    "\n",
    "We can see that the agent is no longer exploring and understands that the long term goal of the game is to make it across the road."
   ]
  },
  {
   "cell_type": "markdown",
   "id": "242b275a",
   "metadata": {},
   "source": [
    "---------------------------------------------------------------------\n",
    "References\n",
    "\n",
    "[1] Sutton, R. S., & Barto, A. G. (2018). Reinforcement learning: An introduction (2nd ed.). The MIT Press.\n",
    "\n",
    "[2] Mnih, V., Kavukcuoglu, K., Silver, D., Rusu, A. A., Veness, J., Bellemare, M. G., ... & Hassabis, D. (2013). Playing Atari with Deep Reinforcement Learning. In Advances in neural information processing systems (pp. 2672-2680).\n",
    "\n"
   ]
  }
 ],
 "metadata": {
  "kernelspec": {
   "display_name": "Python 3 (ipykernel)",
   "language": "python",
   "name": "python3"
  },
  "language_info": {
   "codemirror_mode": {
    "name": "ipython",
    "version": 3
   },
   "file_extension": ".py",
   "mimetype": "text/x-python",
   "name": "python",
   "nbconvert_exporter": "python",
   "pygments_lexer": "ipython3",
   "version": "3.10.9"
  }
 },
 "nbformat": 4,
 "nbformat_minor": 5
}
